{
 "cells": [
  {
   "cell_type": "code",
   "execution_count": 3,
   "metadata": {},
   "outputs": [],
   "source": [
    "import pandas as pd\n",
    "import lightgbm as lgb\n",
    "from sklearn.model_selection import train_test_split\n",
    "\n",
    "def rm_main(data1, data2):\n",
    "    \n",
    "    cols = [col for col in data1.columns if col not in ['target_class']]\n",
    "    X1 = data1[cols]\n",
    "    y1 = data1[\"target_class\"]\n",
    "    \n",
    "    cols = [col for col in data2.columns if col not in ['target_class']]\n",
    "    X2 = data2[cols]\n",
    "    y2 = data2[\"target_class\"]\n",
    "    \n",
    "\n",
    "    # データセットを生成する\n",
    "    lgb_train = lgb.Dataset(X1,y1)\n",
    "    lgb_eval = lgb.Dataset(X2, y2, reference = lgb_train)\n",
    "\n",
    "    # LightGBM のハイパーパラメータ\n",
    "    lgbm_params = {\n",
    "        # 二値問題\n",
    "        'objective': 'binary',\n",
    "        # AUC の最大化を目指す\n",
    "        'metric': 'auc',\n",
    "        }\n",
    "\n",
    "    # 上記のパラメータでモデルを学習する\n",
    "    #clf = lgb.train(lgbm_params, lgb_train, valid_sets=lgb_eval)\n",
    "    clf = lgb.train(lgbm_params, lgb_train)\n",
    "\n",
    "    return clf, data2"
   ]
  }
 ],
 "metadata": {
  "kernelspec": {
   "display_name": "Python 3",
   "language": "python",
   "name": "python3"
  },
  "language_info": {
   "codemirror_mode": {
    "name": "ipython",
    "version": 3
   },
   "file_extension": ".py",
   "mimetype": "text/x-python",
   "name": "python",
   "nbconvert_exporter": "python",
   "pygments_lexer": "ipython3",
   "version": "3.7.3"
  }
 },
 "nbformat": 4,
 "nbformat_minor": 2
}
