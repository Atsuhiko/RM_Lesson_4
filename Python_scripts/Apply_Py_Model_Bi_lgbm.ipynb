{
 "cells": [
  {
   "cell_type": "code",
   "execution_count": null,
   "metadata": {},
   "outputs": [],
   "source": [
    "from sklearn.svm import SVC\n",
    "\n",
    "def rm_main(model, data):\n",
    "    \n",
    "    cols = [col for col in data.columns if col not in ['target_class']]\n",
    "    X = data[cols]\n",
    "    data['prediction'] = model.predict(X, num_iteration = 10)\n",
    "\n",
    "    #set role of prediction attribute to prediction\n",
    "    data.rm_metadata['prediction']=('binominal','prediction')\n",
    "    data.rm_metadata['target_class']=('binominal','label')\n",
    "    \n",
    "    return data"
   ]
  }
 ],
 "metadata": {
  "kernelspec": {
   "display_name": "Python 3",
   "language": "python",
   "name": "python3"
  },
  "language_info": {
   "codemirror_mode": {
    "name": "ipython",
    "version": 3
   },
   "file_extension": ".py",
   "mimetype": "text/x-python",
   "name": "python",
   "nbconvert_exporter": "python",
   "pygments_lexer": "ipython3",
   "version": "3.7.3"
  }
 },
 "nbformat": 4,
 "nbformat_minor": 2
}
