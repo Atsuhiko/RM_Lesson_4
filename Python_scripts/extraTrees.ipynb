{
 "cells": [
  {
   "cell_type": "code",
   "execution_count": null,
   "metadata": {},
   "outputs": [],
   "source": [
    "import pandas as pd\n",
    "from sklearn.ensemble import ExtraTreesClassifier\n",
    "\n",
    "def rm_main(data):\n",
    "    \n",
    "    cols = [col for col in data.columns if col not in ['target_class']]\n",
    "    X = data[cols]\n",
    "    y = data[\"target_class\"]\n",
    "    \n",
    "    clf = ExtraTreesClassifier(random_state=42)\n",
    "    clf.fit(X, y)   # Train model\n",
    "    \n",
    "    return clf"
   ]
  }
 ],
 "metadata": {
  "kernelspec": {
   "display_name": "Python 3",
   "language": "python",
   "name": "python3"
  },
  "language_info": {
   "codemirror_mode": {
    "name": "ipython",
    "version": 3
   },
   "file_extension": ".py",
   "mimetype": "text/x-python",
   "name": "python",
   "nbconvert_exporter": "python",
   "pygments_lexer": "ipython3",
   "version": "3.7.3"
  }
 },
 "nbformat": 4,
 "nbformat_minor": 2
}
